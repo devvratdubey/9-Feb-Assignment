{
 "cells": [
  {
   "cell_type": "code",
   "execution_count": 6,
   "id": "60160235-a1a7-4a7e-813e-9933884c0ea3",
   "metadata": {},
   "outputs": [],
   "source": [
    "#Q1 ANSWER\n",
    "class vehicle:\n",
    "    def __init__(self,name_of_vehicle,max_speed,average_of_vehicle):\n",
    "        self.name_of_vehicle=name_of_vehicle\n",
    "        self.max_speed=max_speed\n",
    "        self.average_of_vehicle=average_of_vehicle"
   ]
  },
  {
   "cell_type": "code",
   "execution_count": 7,
   "id": "9f85b9c3-c1a1-40d2-9917-30f8f7c56b2a",
   "metadata": {},
   "outputs": [],
   "source": [
    "v1=vehicle(\"yamahaR15\",120,40)"
   ]
  },
  {
   "cell_type": "code",
   "execution_count": 8,
   "id": "9e00d57d-d137-4f71-b9d4-99d40d5c04e4",
   "metadata": {},
   "outputs": [
    {
     "data": {
      "text/plain": [
       "40"
      ]
     },
     "execution_count": 8,
     "metadata": {},
     "output_type": "execute_result"
    }
   ],
   "source": [
    "\n",
    "v1.average_of_vehicle"
   ]
  },
  {
   "cell_type": "code",
   "execution_count": 9,
   "id": "5ddf1aff-4834-4fa3-b5f2-dda5844661c0",
   "metadata": {},
   "outputs": [
    {
     "data": {
      "text/plain": [
       "120"
      ]
     },
     "execution_count": 9,
     "metadata": {},
     "output_type": "execute_result"
    }
   ],
   "source": [
    "v1.max_speed"
   ]
  },
  {
   "cell_type": "code",
   "execution_count": 10,
   "id": "849767dc-7ff4-49a8-b05c-2762b6f6bd8c",
   "metadata": {},
   "outputs": [
    {
     "data": {
      "text/plain": [
       "'yamahaR15'"
      ]
     },
     "execution_count": 10,
     "metadata": {},
     "output_type": "execute_result"
    }
   ],
   "source": [
    "v1.name_of_vehicle"
   ]
  },
  {
   "cell_type": "code",
   "execution_count": 11,
   "id": "b8548b22-b5cd-4b0c-a607-7aecb30a3a5e",
   "metadata": {},
   "outputs": [],
   "source": [
    "#Q2 ANSWER\n",
    "class car(vehicle):\n",
    "    def seating_capacity(self,seatingcapacity):\n",
    "        return (self.name_of_vehicle,seatingcapacity)"
   ]
  },
  {
   "cell_type": "code",
   "execution_count": 12,
   "id": "85e7ed1f-44ee-4945-bb64-c01f33b95722",
   "metadata": {},
   "outputs": [],
   "source": [
    "c1=car(\"innova\",120,30)"
   ]
  },
  {
   "cell_type": "code",
   "execution_count": 14,
   "id": "3972c0a1-6aa8-474d-967b-bd008b6d3a12",
   "metadata": {},
   "outputs": [
    {
     "data": {
      "text/plain": [
       "('innova', 7)"
      ]
     },
     "execution_count": 14,
     "metadata": {},
     "output_type": "execute_result"
    }
   ],
   "source": [
    "c1.seating_capacity(7)"
   ]
  },
  {
   "cell_type": "markdown",
   "id": "57a502f0-c6cc-4555-9a00-73ada5916278",
   "metadata": {},
   "source": [
    "#Q3 ANSWER\n",
    "\n",
    "#multiple inheritance\n",
    "\n",
    "In multiple inheritance, a single child class is inherited from two or more parent classes. It means the child class has access to all the parent classes' methods and attributes.\n",
    "\n",
    "However, if two parents have the same “named” methods, the child class performs the method of the first parent in order of reference. To better understand which class’s methods shall be executed first, we can use the Method Resolution Order function (mro). It tells the order in which the child class is interpreted to visit the other classes."
   ]
  },
  {
   "cell_type": "code",
   "execution_count": 15,
   "id": "3d80a3f3-7a6d-420b-8dde-67c5a1cb9d3c",
   "metadata": {},
   "outputs": [],
   "source": [
    "class parent1:\n",
    "    def func1(self):\n",
    "        print(\"hello parent 1\")\n",
    "class parent2:\n",
    "    def func2(self):\n",
    "        print(\"hello parent 2\")\n",
    "class parent3:\n",
    "    def func2(self):\n",
    "        print(\"hello parent 3\")"
   ]
  },
  {
   "cell_type": "code",
   "execution_count": 16,
   "id": "0396c5e2-8e1c-4422-9c2b-cf077d877345",
   "metadata": {},
   "outputs": [],
   "source": [
    "class child(parent1,parent2,parent3):\n",
    "    def func3(self):\n",
    "        print(\"hello child\")"
   ]
  },
  {
   "cell_type": "code",
   "execution_count": 17,
   "id": "cc51a143-962e-4061-ae85-ba4ea2ce8e24",
   "metadata": {},
   "outputs": [],
   "source": [
    "test=child()"
   ]
  },
  {
   "cell_type": "code",
   "execution_count": 21,
   "id": "f78fbb71-d97a-4bad-b4b8-776524889bcc",
   "metadata": {},
   "outputs": [
    {
     "name": "stdout",
     "output_type": "stream",
     "text": [
      "hello parent 1\n"
     ]
    }
   ],
   "source": [
    "test.func1()"
   ]
  },
  {
   "cell_type": "code",
   "execution_count": 22,
   "id": "abf9c08f-2196-4193-959b-18d8cabde63f",
   "metadata": {},
   "outputs": [
    {
     "name": "stdout",
     "output_type": "stream",
     "text": [
      "hello parent 2\n"
     ]
    }
   ],
   "source": [
    "test.func2()"
   ]
  },
  {
   "cell_type": "code",
   "execution_count": 23,
   "id": "f5e94d89-23fc-44be-ac64-2491dcd0d23f",
   "metadata": {},
   "outputs": [
    {
     "name": "stdout",
     "output_type": "stream",
     "text": [
      "hello child\n"
     ]
    }
   ],
   "source": [
    "test.func3()"
   ]
  },
  {
   "cell_type": "code",
   "execution_count": 25,
   "id": "41efbe00-535b-401b-aab1-9dd2c89d2373",
   "metadata": {},
   "outputs": [
    {
     "name": "stdout",
     "output_type": "stream",
     "text": [
      "(<class '__main__.child'>, <class '__main__.parent1'>, <class '__main__.parent2'>, <class '__main__.parent3'>, <class 'object'>)\n"
     ]
    }
   ],
   "source": [
    "print(child.__mro__)"
   ]
  },
  {
   "cell_type": "markdown",
   "id": "4844020a-3919-4e64-bdf1-4ff7a1f619b8",
   "metadata": {},
   "source": [
    "As we can see with the help of mro, the child class first visits itself, then the first parent class, referenced before the second parent class. Similarly, it visits the second parent class before the third parent class, and that’s why it performs the second parent’s function rather than the third parent’s. Finally, it visits any objects that may have been created."
   ]
  },
  {
   "cell_type": "markdown",
   "id": "0c38f871-ea56-4e6a-b5b6-f40fbda99457",
   "metadata": {},
   "source": [
    "#Q4 ANSWER\n",
    "\n",
    "Consider the following code –\n",
    "\n",
    "We first define a class Person which has attributes firstName, middleName, lastName and fullname. An instance of Person is instantiated, and the first name of the person is changed to something else. Users of this class would expect the attribute fullname to change dynamically, but in this scenario, it remains the same, which makes the class practically unusable."
   ]
  },
  {
   "cell_type": "code",
   "execution_count": 26,
   "id": "89c967c8-1f44-4b98-9b94-87edb107da1f",
   "metadata": {},
   "outputs": [],
   "source": [
    "class person:\n",
    "    def __init__(self,firstname,middlename,lastname):\n",
    "        self.firstname=firstname\n",
    "        self.middlename=middlename\n",
    "        self.lastname=lastname\n",
    "        self.fullname=firstname+\" \"+middlename+\" \"+lastname"
   ]
  },
  {
   "cell_type": "code",
   "execution_count": 27,
   "id": "856b5b53-7343-4be3-aae8-8aecb309dab0",
   "metadata": {},
   "outputs": [],
   "source": [
    "p1=person(\"devvrat\",\"anilkumar\",\"dubey\")"
   ]
  },
  {
   "cell_type": "code",
   "execution_count": 28,
   "id": "9dd34dc0-b972-401b-8131-10160bad077d",
   "metadata": {},
   "outputs": [
    {
     "data": {
      "text/plain": [
       "'devvrat'"
      ]
     },
     "execution_count": 28,
     "metadata": {},
     "output_type": "execute_result"
    }
   ],
   "source": [
    "p1.firstname"
   ]
  },
  {
   "cell_type": "code",
   "execution_count": 29,
   "id": "41fe03ae-787a-43d9-9f96-4d93cb36fa1a",
   "metadata": {},
   "outputs": [
    {
     "data": {
      "text/plain": [
       "'devvrat anilkumar dubey'"
      ]
     },
     "execution_count": 29,
     "metadata": {},
     "output_type": "execute_result"
    }
   ],
   "source": [
    "p1.fullname"
   ]
  },
  {
   "cell_type": "code",
   "execution_count": 30,
   "id": "ca640118-9282-42e5-ad14-8e1de15eb95b",
   "metadata": {},
   "outputs": [],
   "source": [
    "p1.firsname=\"satyavrat\""
   ]
  },
  {
   "cell_type": "code",
   "execution_count": 31,
   "id": "b49d6edd-52a9-4a5b-9f9f-411e6076e902",
   "metadata": {},
   "outputs": [
    {
     "data": {
      "text/plain": [
       "'devvrat anilkumar dubey'"
      ]
     },
     "execution_count": 31,
     "metadata": {},
     "output_type": "execute_result"
    }
   ],
   "source": [
    "p1.fullname# this is unusable"
   ]
  },
  {
   "cell_type": "markdown",
   "id": "77d89b8b-cf5d-4da4-bdf7-b55b3ad039eb",
   "metadata": {},
   "source": [
    "As you can see, the attribute fullname did not get updated when we changed person1’s first name. An easy way of fixing this is by removing the line:\n",
    "\n",
    "self.fullname   = firstName + \" \" + middleName + \" \" + lastName\n",
    "\n",
    "by adding the function fullname() in the Person class\n",
    "\n",
    "def fullname(self):\n",
    "        return self.firstName + \" \" + self.middleName + \" \" + self.lastName\n",
    "        \n",
    "Now, any time we want to use the person's full name, we’ll have to call the function fullname(), which will return the value as a string.\n",
    "\n",
    "The problem with this fix is that we’ll have to call the newly created fullname() function as a function instead of calling it as an attribute.\n",
    "\n",
    "So, print statements will go from this:\n",
    "\n",
    "print(person1.fullname)\n",
    "\n",
    "to this\n",
    "\n",
    "print(person1.fullname())\n"
   ]
  },
  {
   "cell_type": "markdown",
   "id": "dd4ba496-c4bf-463d-89fb-55eb4d4974db",
   "metadata": {},
   "source": [
    "To fix this in the ‘object oriented’ we can implement Getter functions in Python with property decorators!\n",
    "\n",
    "The property() method returns a property attribute from the defined Getter, Setter, and Deleter.\n",
    "\n",
    "Getters, Setters, and Deleters\n",
    "\n",
    "In object-oriented programming, when a class gets created by convention, the attributes are made private. It is a good practice to make them private, so they don’t get changed accidentally when called by objects.\n",
    "\n",
    "These attributes can then be retrieved, manipulated or deleted by getters, setters, and deleters.\n",
    "\n",
    "Getters fetch the value that is held in the attribute.\n",
    "\n",
    "Setters take a value, as a function parameter and then change the private attribute’s value to the new one.\n",
    "\n",
    "Deleters get called when we’re done using the attribute and we need to free up its memory."
   ]
  },
  {
   "cell_type": "code",
   "execution_count": 32,
   "id": "9748f98a-c2f4-4627-9e4e-1642cecd4bad",
   "metadata": {},
   "outputs": [],
   "source": [
    "class foo:\n",
    "    def __init__(self,name):\n",
    "        self.__name=name  # variable is made private\n",
    "    @property\n",
    "    def nameacess(self):\n",
    "        return self.__name\n",
    "    @nameacess.setter\n",
    "    def namechange(self,newname):\n",
    "        self.__name=newname\n",
    "    @nameacess.deleter\n",
    "    def namedelte(self):\n",
    "        del self.__name"
   ]
  },
  {
   "cell_type": "code",
   "execution_count": 33,
   "id": "1cc1e0ce-3a19-468d-8be8-f9af82c1828f",
   "metadata": {},
   "outputs": [],
   "source": [
    "f1=foo(\"devvrat\")"
   ]
  },
  {
   "cell_type": "code",
   "execution_count": 34,
   "id": "5ec477c8-c924-49df-b655-f364af8c8d71",
   "metadata": {},
   "outputs": [
    {
     "data": {
      "text/plain": [
       "'devvrat'"
      ]
     },
     "execution_count": 34,
     "metadata": {},
     "output_type": "execute_result"
    }
   ],
   "source": [
    "f1.nameacess"
   ]
  },
  {
   "cell_type": "code",
   "execution_count": 35,
   "id": "2336a0bb-2006-4305-859f-77161e6d4911",
   "metadata": {},
   "outputs": [],
   "source": [
    "f1.namechange=\"satyavrat\""
   ]
  },
  {
   "cell_type": "code",
   "execution_count": 37,
   "id": "054a5830-38d0-43b0-a49b-540d5c2de88c",
   "metadata": {},
   "outputs": [],
   "source": [
    "del f1.namedelte"
   ]
  },
  {
   "cell_type": "code",
   "execution_count": 38,
   "id": "ebbbca0b-5865-449c-987b-1da5bd77ad51",
   "metadata": {},
   "outputs": [
    {
     "ename": "AttributeError",
     "evalue": "'foo' object has no attribute '_foo__name'",
     "output_type": "error",
     "traceback": [
      "\u001b[0;31m---------------------------------------------------------------------------\u001b[0m",
      "\u001b[0;31mAttributeError\u001b[0m                            Traceback (most recent call last)",
      "Cell \u001b[0;32mIn[38], line 1\u001b[0m\n\u001b[0;32m----> 1\u001b[0m \u001b[43mf1\u001b[49m\u001b[38;5;241;43m.\u001b[39;49m\u001b[43mnameacess\u001b[49m  \u001b[38;5;66;03m#name has been deleted annd now it can be acessed\u001b[39;00m\n",
      "Cell \u001b[0;32mIn[32], line 6\u001b[0m, in \u001b[0;36mfoo.nameacess\u001b[0;34m(self)\u001b[0m\n\u001b[1;32m      4\u001b[0m \u001b[38;5;129m@property\u001b[39m\n\u001b[1;32m      5\u001b[0m \u001b[38;5;28;01mdef\u001b[39;00m \u001b[38;5;21mnameacess\u001b[39m(\u001b[38;5;28mself\u001b[39m):\n\u001b[0;32m----> 6\u001b[0m     \u001b[38;5;28;01mreturn\u001b[39;00m \u001b[38;5;28;43mself\u001b[39;49m\u001b[38;5;241;43m.\u001b[39;49m\u001b[43m__name\u001b[49m\n",
      "\u001b[0;31mAttributeError\u001b[0m: 'foo' object has no attribute '_foo__name'"
     ]
    }
   ],
   "source": [
    "f1.nameacess  #name has been deleted annd now it can be acessed"
   ]
  },
  {
   "cell_type": "code",
   "execution_count": 39,
   "id": "9fe0e146-37ee-4167-bc41-6c17ebbb59d1",
   "metadata": {},
   "outputs": [],
   "source": [
    "#now solving the full name problem\n",
    "class person1:\n",
    "    def __init__(self,firstname,middlename,lastname):\n",
    "        self.firstname=firstname\n",
    "        self.middlename=middlename\n",
    "        self.lastname=lastname\n",
    "    @property\n",
    "    def fullname(self):\n",
    "        return self.firstname+\" \"+self.middlename+\" \"+self.lastname\n",
    "    @fullname.setter\n",
    "    def fullname(self,fullname):\n",
    "        firstname,middlename,lastname=fullname.split(\" \")\n",
    "        self.firstname=firstname\n",
    "        self.middlename=middlename\n",
    "        self.lastname=lastname\n",
    "    @fullname.deleter\n",
    "    def fullname(self):\n",
    "        del self.firstname,self.middlename,self.lastname"
   ]
  },
  {
   "cell_type": "code",
   "execution_count": 40,
   "id": "54e10e9d-0bae-412b-b102-6e007da09f28",
   "metadata": {},
   "outputs": [],
   "source": [
    "my=person1(\"devvrat\",\"anilkumar\",\"dubey\")"
   ]
  },
  {
   "cell_type": "code",
   "execution_count": 41,
   "id": "0f4071ba-e03b-4543-8f99-13cb20e3e760",
   "metadata": {},
   "outputs": [
    {
     "data": {
      "text/plain": [
       "'devvrat anilkumar dubey'"
      ]
     },
     "execution_count": 41,
     "metadata": {},
     "output_type": "execute_result"
    }
   ],
   "source": [
    "my.fullname"
   ]
  },
  {
   "cell_type": "code",
   "execution_count": 42,
   "id": "b126b2b6-0af9-4e99-b7ef-f5cb56bf6dd5",
   "metadata": {},
   "outputs": [],
   "source": [
    "my.firstname=\"satayvrat\""
   ]
  },
  {
   "cell_type": "code",
   "execution_count": 43,
   "id": "96ecb214-49cf-4877-89b5-7816b4be1847",
   "metadata": {},
   "outputs": [
    {
     "data": {
      "text/plain": [
       "'satayvrat anilkumar dubey'"
      ]
     },
     "execution_count": 43,
     "metadata": {},
     "output_type": "execute_result"
    }
   ],
   "source": [
    "my.fullname  # now by changig the first name full name cahnges"
   ]
  },
  {
   "cell_type": "code",
   "execution_count": 44,
   "id": "f2a68561-b53e-4d0e-a065-e3dd10be95fa",
   "metadata": {},
   "outputs": [],
   "source": [
    "my.fullname=\"lakirchand fakirchand pandey\" # and by changing full name all three changes"
   ]
  },
  {
   "cell_type": "code",
   "execution_count": 45,
   "id": "46b2f217-aeeb-4ede-ab3e-e1fce1eb1de7",
   "metadata": {},
   "outputs": [
    {
     "data": {
      "text/plain": [
       "'lakirchand'"
      ]
     },
     "execution_count": 45,
     "metadata": {},
     "output_type": "execute_result"
    }
   ],
   "source": [
    "my.firstname"
   ]
  },
  {
   "cell_type": "code",
   "execution_count": 46,
   "id": "bba874c4-4cc7-4824-8779-e82aa922d17f",
   "metadata": {},
   "outputs": [
    {
     "data": {
      "text/plain": [
       "'pandey'"
      ]
     },
     "execution_count": 46,
     "metadata": {},
     "output_type": "execute_result"
    }
   ],
   "source": [
    "my.lastname"
   ]
  },
  {
   "cell_type": "code",
   "execution_count": 47,
   "id": "692385f4-fe0a-4eae-a056-9d458c11bc2b",
   "metadata": {},
   "outputs": [
    {
     "data": {
      "text/plain": [
       "'fakirchand'"
      ]
     },
     "execution_count": 47,
     "metadata": {},
     "output_type": "execute_result"
    }
   ],
   "source": [
    "my.middlename"
   ]
  },
  {
   "cell_type": "markdown",
   "id": "2e5a1335-5d02-4fee-a197-8a4007ec0302",
   "metadata": {},
   "source": [
    "#Q5 ANSWER\n",
    "\n",
    " #Method Overriding in Python\n",
    " \n",
    " Method Overriding in Python is an OOPs concept closely related to inheritance. When a child class method overrides(or, provides it's own implementation) on the parent class method of the same name, parameters and return type, it is known as method overriding.\n",
    "\n",
    "In this case, the child class's method is called the overriding method and the parent class's method is called the overriden method.\n",
    "\n",
    "Method Overriding allows us to change the implementation of a function in the child class which is defined in the parent class.\n",
    "\n",
    "Method Overriding is a part of the inheritance mechanism\n",
    "\n",
    "Method Overriding avoids duplication of code\n",
    "\n",
    "Method Overriding also enhances the code adding some additional properties.\n",
    "\n"
   ]
  },
  {
   "cell_type": "code",
   "execution_count": 48,
   "id": "218fb920-f7f8-41ae-bb6d-891a5bf8b84a",
   "metadata": {},
   "outputs": [],
   "source": [
    "#parent class\n",
    "class shape:\n",
    "    data1=\"abc\"\n",
    "    def noofsides(self):\n",
    "        print(\"my sides dont need to be defined ia am form shape class\")\n",
    "    def twodimension(self):\n",
    "        print(\"i am a 2d object i am from shape class\")\n",
    "        \n",
    "        \n",
    "class square(shape):\n",
    "    data2=\"xyz\"\n",
    "    def noofsides(self):\n",
    "        print(\"i have 4 sides i am from square class\")\n",
    "    def color(self):\n",
    "        print(\" i have yellow color i am  from sqaure class\")\n",
    "    "
   ]
  },
  {
   "cell_type": "code",
   "execution_count": 49,
   "id": "5e313d0f-3b5b-4bf4-bd3d-1aaf3d298007",
   "metadata": {},
   "outputs": [],
   "source": [
    "sq=square()"
   ]
  },
  {
   "cell_type": "code",
   "execution_count": 50,
   "id": "a75134e5-33af-4ebb-bda5-652ff0a2f0bb",
   "metadata": {},
   "outputs": [
    {
     "name": "stdout",
     "output_type": "stream",
     "text": [
      "i have 4 sides i am from square class\n"
     ]
    }
   ],
   "source": [
    "sq.noofsides()# method from parent class is overridden in child class"
   ]
  },
  {
   "cell_type": "code",
   "execution_count": 51,
   "id": "3443baa1-9f4e-439e-b795-297fee2f0f65",
   "metadata": {},
   "outputs": [
    {
     "name": "stdout",
     "output_type": "stream",
     "text": [
      " i have yellow color i am  from sqaure class\n"
     ]
    }
   ],
   "source": [
    "sq.color()"
   ]
  },
  {
   "cell_type": "markdown",
   "id": "10a768bd-89f0-41d9-bb9f-d4d1127ddc5b",
   "metadata": {},
   "source": [
    "#Method Resolution Order in Python\n",
    "Method resolution order in Python is the order in which a python program resolves or searches for a class in case of multiple inheritance\n",
    "\n",
    "In multi-inheritance a class is derived from more than one base class, hence inheriting all properties of the base class\n",
    "\n",
    "In this approach -> the method or attributes are first searched in the base class. If it is not present then the seraching moves a level up -- to the immediate parent class. And if again no luck, then the searching continues following the same search approach."
   ]
  },
  {
   "cell_type": "markdown",
   "id": "6d2ff4ca-39a0-46af-964f-850ec70d1bef",
   "metadata": {},
   "source": [
    "#Scenario 1:\n",
    "\n",
    "Here we have a base class A, and B & C are the sub class, inheriting from A. Class D inherits from B & C, also getting the access to methods of class A. So, this is an example of a multi-level inheritance. Let us see the code:"
   ]
  },
  {
   "cell_type": "code",
   "execution_count": 52,
   "id": "c4941cf3-0abb-4046-98a2-a5738c2291f1",
   "metadata": {},
   "outputs": [],
   "source": [
    "class a:\n",
    "    def demo(self):\n",
    "        print(\"from class a\")\n",
    "class b(a):\n",
    "    def demo(self):\n",
    "        print(\"from class b\")\n",
    "class c(a):\n",
    "    def demo(self):\n",
    "        print(\"from class c\")\n",
    "class d(b,c):\n",
    "    def check(self):\n",
    "        print(\"exmaple of MRO\")"
   ]
  },
  {
   "cell_type": "code",
   "execution_count": 54,
   "id": "f062ebd3-7239-4349-90ef-8d8746445c32",
   "metadata": {},
   "outputs": [],
   "source": [
    "dev=d()"
   ]
  },
  {
   "cell_type": "code",
   "execution_count": 55,
   "id": "99006434-0b96-4e84-9303-1b28d2eff107",
   "metadata": {},
   "outputs": [
    {
     "name": "stdout",
     "output_type": "stream",
     "text": [
      "from class b\n"
     ]
    }
   ],
   "source": [
    "dev.demo()"
   ]
  },
  {
   "cell_type": "markdown",
   "id": "7fade292-986a-42d0-9b6a-2d532e08b6e7",
   "metadata": {},
   "source": [
    "In this code the order of execution will be : class d -> class b-> class c-> class a\n",
    "\n",
    "Scenario 2:\n",
    "\n",
    "Suppose, we pass the parameters to din some other order -- like class d(c,b)"
   ]
  },
  {
   "cell_type": "code",
   "execution_count": 57,
   "id": "6e4b6396-170f-4387-bd2e-aebf204290b3",
   "metadata": {},
   "outputs": [],
   "source": [
    "class a:\n",
    "    def demo(self):\n",
    "        print(\"from class a\")\n",
    "class b(a):\n",
    "    def demo(self):\n",
    "        print(\"from class b\")\n",
    "class c(a):\n",
    "    def demo(self):\n",
    "        print(\"from class c\")\n",
    "class d(c,b):\n",
    "    def check(self):\n",
    "        print(\"exmaple of MRO\")"
   ]
  },
  {
   "cell_type": "code",
   "execution_count": 58,
   "id": "73e81b6f-96e5-4530-8e7c-806135011349",
   "metadata": {},
   "outputs": [],
   "source": [
    "dev=d()"
   ]
  },
  {
   "cell_type": "code",
   "execution_count": 59,
   "id": "edd65f6d-5e5f-43e3-b4e1-c87a9278a76c",
   "metadata": {},
   "outputs": [
    {
     "name": "stdout",
     "output_type": "stream",
     "text": [
      "from class c\n"
     ]
    }
   ],
   "source": [
    "dev.demo()"
   ]
  },
  {
   "cell_type": "markdown",
   "id": "34fff255-25bf-494b-bfb7-9431fca7c334",
   "metadata": {},
   "source": [
    "Then MRO will resolve it in this order:\n",
    "\n",
    "class d -> class c -> class c -> class a"
   ]
  },
  {
   "cell_type": "code",
   "execution_count": null,
   "id": "1a7c8c24-033f-4935-821d-ef5d0f432ff3",
   "metadata": {},
   "outputs": [],
   "source": []
  }
 ],
 "metadata": {
  "kernelspec": {
   "display_name": "Python 3 (ipykernel)",
   "language": "python",
   "name": "python3"
  },
  "language_info": {
   "codemirror_mode": {
    "name": "ipython",
    "version": 3
   },
   "file_extension": ".py",
   "mimetype": "text/x-python",
   "name": "python",
   "nbconvert_exporter": "python",
   "pygments_lexer": "ipython3",
   "version": "3.10.8"
  }
 },
 "nbformat": 4,
 "nbformat_minor": 5
}
